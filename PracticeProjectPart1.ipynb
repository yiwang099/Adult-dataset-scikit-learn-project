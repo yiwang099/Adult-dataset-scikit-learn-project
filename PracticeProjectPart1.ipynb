{
  "nbformat": 4,
  "nbformat_minor": 0,
  "metadata": {
    "colab": {
      "provenance": [],
      "authorship_tag": "ABX9TyNQ90YHQFh0k0oqyTdCnP0L",
      "include_colab_link": true
    },
    "kernelspec": {
      "name": "python3",
      "display_name": "Python 3"
    },
    "language_info": {
      "name": "python"
    }
  },
  "cells": [
    {
      "cell_type": "markdown",
      "metadata": {
        "id": "view-in-github",
        "colab_type": "text"
      },
      "source": [
        "<a href=\"https://colab.research.google.com/github/yiwang099/Adult-dataset-scikit-learn-project/blob/main/PracticeProject.ipynb\" target=\"_parent\"><img src=\"https://colab.research.google.com/assets/colab-badge.svg\" alt=\"Open In Colab\"/></a>"
      ]
    },
    {
      "cell_type": "code",
      "source": [
        "import pandas as pd\n",
        "from sklearn.model_selection import train_test_split"
      ],
      "metadata": {
        "id": "ACJy7DOvKhbr"
      },
      "execution_count": null,
      "outputs": []
    },
    {
      "cell_type": "code",
      "execution_count": null,
      "metadata": {
        "id": "X3p6TSTd9F1w"
      },
      "outputs": [],
      "source": [
        "# Read the records from the file\n",
        "records = ['age', 'workclass', 'fnlwgt', 'education', 'education-num', 'marital-status',\n",
        "           'occupation', 'relationship', 'race', 'sex', 'capital-gain', 'capital-loss',\n",
        "           'hours-per-week', 'native-country', 'income']\n",
        "\n",
        "# Training and testing the set, remove the records contain unknown values\n",
        "train = pd.read_csv('adult.data', sep = r',\\s*', header = None, names = records, engine = 'python', na_values=\"?\")\n",
        "test = pd.read_csv('adult.test', sep = r',\\s*', header = None, names = records, engine = 'python', skiprows = 1, na_values=\"?\")\n",
        "#test['income'] = test['income'].str.strip()\n",
        "test['income'] = test['income'].str.replace(r'\\.', '', regex=True)# Get away the period in the file\n",
        "train = train.dropna()\n",
        "test = test.dropna()\n",
        "\n",
        "# Remove all continuous attributes, which: age, fnlwgt, education-num, capital-gain, capital-loss, hours-per-week\n",
        "contAttr = ['age', 'fnlwgt', 'education-num', 'capital-gain', 'capital-loss', 'hours-per-week']\n",
        "train = train.drop(columns = contAttr)\n",
        "test = test.drop(columns = contAttr)\n",
        "#print(train.head())\n",
        "#print(test.head())"
      ]
    },
    {
      "cell_type": "markdown",
      "source": [
        "# One-hot Encoding"
      ],
      "metadata": {
        "id": "mDs92QMAV_-x"
      }
    },
    {
      "cell_type": "code",
      "source": [
        "from sklearn.preprocessing import OneHotEncoder"
      ],
      "metadata": {
        "id": "hp19jM5oVdf-"
      },
      "execution_count": null,
      "outputs": []
    },
    {
      "cell_type": "code",
      "source": [
        "# Use one-hot encoding to transform data\n",
        "# Separate income from other attributes, because we will use income as the main attribute to distinguish the dataset\n",
        "X_train = train.drop('income', axis=1)\n",
        "y_train = train['income']\n",
        "\n",
        "X_test = test.drop('income', axis=1)\n",
        "y_test = test['income']\n",
        "X_test_encoded = pd.get_dummies(X_test, drop_first=False)\n",
        "#print(\"Data after encoded:\") # For testing\n",
        "#print(train_encoded.shape)\n",
        "\n",
        "categorical_cols = X_train.select_dtypes(include=['object']).columns\n",
        "#print(\"Categorical columns:\", categorical_cols)\n",
        "\n",
        "# Create and fit OneHotEncoder\n",
        "encoder = OneHotEncoder(drop='first', sparse_output=False, handle_unknown='ignore')\n",
        "\n",
        "# Transformation\n",
        "X_train_encoded = pd.DataFrame(encoder.fit_transform(X_train[categorical_cols]), index=X_train.index)\n",
        "X_test_encoded = pd.DataFrame(encoder.transform(X_test[categorical_cols]), index=X_test.index)\n",
        "\n",
        "to_concat_train = [df for df in [X_train.drop(columns=categorical_cols), X_train_encoded] if not df.empty]\n",
        "to_concat_test  = [df for df in [X_test.drop(columns=categorical_cols), X_test_encoded] if not df.empty]\n",
        "\n",
        "X_train_final = pd.concat(to_concat_train, axis=1)\n",
        "X_test_final  = pd.concat(to_concat_test, axis=1)"
      ],
      "metadata": {
        "id": "orbLSIc5AQkt"
      },
      "execution_count": null,
      "outputs": []
    },
    {
      "cell_type": "markdown",
      "source": [
        "# Decision Tree Classifier"
      ],
      "metadata": {
        "id": "FKsJ5fZbcLpP"
      }
    },
    {
      "cell_type": "code",
      "source": [
        "from sklearn.tree import DecisionTreeClassifier\n",
        "from sklearn.metrics import accuracy_score, precision_score, recall_score, f1_score\n",
        "from sklearn.metrics import confusion_matrix, classification_report"
      ],
      "metadata": {
        "id": "gu_bSxY3O4oe"
      },
      "execution_count": null,
      "outputs": []
    },
    {
      "cell_type": "code",
      "source": [
        "# Create the model for decision tree classifier\n",
        "dt = DecisionTreeClassifier(random_state = 0)\n",
        "\n",
        "# Train the model\n",
        "dt.fit(X_train_final, y_train)\n",
        "\n",
        "# Test the model\n",
        "y_pred_dt = dt.predict(X_test_final)"
      ],
      "metadata": {
        "id": "mLsfEYWkQU9q"
      },
      "execution_count": null,
      "outputs": []
    },
    {
      "cell_type": "code",
      "source": [
        "# Report accuracy by class including (TP rate, FP rate, precision, recall, F1)\n",
        "# Confusion Matrix: [[TN, FP],\n",
        "#            [FN, TP]]\n",
        "cmDT = confusion_matrix(y_test, y_pred_dt, labels=['<=50K', '>50K'])\n",
        "#print(\"Confusion Matrix:\\n\", cmDT)\n",
        "\n",
        "TN, FP, FN, TP = cmDT.ravel()\n",
        "\n",
        "TPrate = TP / (TP + FN)\n",
        "FPrate = FP / (FP + TN)\n",
        "precision = TP / (TP + FP)\n",
        "recall = TP / (TP + FN) # Same as the TP rate\n",
        "F1 = 2 * precision * recall / (precision + recall)\n",
        "\n",
        "# Printing\n",
        "print(\"Decision Tree Report\")\n",
        "print(f\"TP rate: {TPrate*100:.2f}%\")\n",
        "print(f\"FP rate: {FPrate*100:.2f}%\")\n",
        "print(f\"Precision: {precision*100:.2f}%\")\n",
        "print(f\"Recall: {recall*100:.2f}%\")\n",
        "print(f\"F1 Score: {F1*100:.2f}%\")"
      ],
      "metadata": {
        "colab": {
          "base_uri": "https://localhost:8080/"
        },
        "id": "BAUbjoRXAVJy",
        "outputId": "a17c8d9c-3e71-4a51-c8e0-9b719f0043ec"
      },
      "execution_count": null,
      "outputs": [
        {
          "output_type": "stream",
          "name": "stdout",
          "text": [
            "Decision Tree Report\n",
            "TP rate: 56.32%\n",
            "FP rate: 10.69%\n",
            "Precision: 63.19%\n",
            "Recall: 56.32%\n",
            "F1 Score: 59.56%\n"
          ]
        }
      ]
    },
    {
      "cell_type": "markdown",
      "source": [
        "# Naive Bayesian Classifier"
      ],
      "metadata": {
        "id": "p3MxoQohcWGJ"
      }
    },
    {
      "cell_type": "code",
      "source": [
        "from sklearn.naive_bayes import GaussianNB"
      ],
      "metadata": {
        "id": "BDP1KswfO-5J"
      },
      "execution_count": null,
      "outputs": []
    },
    {
      "cell_type": "code",
      "source": [
        "nb = GaussianNB()\n",
        "nb.fit(X_train_final, y_train)\n",
        "y_pred_nb = nb.predict(X_test_final)\n",
        "\n",
        "cmNB = confusion_matrix(y_test, y_pred_nb, labels=['<=50K', '>50K'])\n",
        "#print(\"Confusion Matrix:\\n\", cmNB)\n",
        "\n",
        "TN, FP, FN, TP = cmNB.ravel()\n",
        "\n",
        "TPrate = TP / (TP + FN)\n",
        "FPrate = FP / (FP + TN)\n",
        "precision = TP / (TP + FP)\n",
        "recall = TP / (TP + FN)\n",
        "F1 = 2 * precision * recall / (precision + recall)\n",
        "\n",
        "# Report accuracy by class including (TP rate, FP rate, precision, recall, F1)\n",
        "print(f\"TP rate (Recall): {TPrate*100:.2f}%\")\n",
        "print(f\"FP rate: {FPrate*100:.2f}%\")\n",
        "print(f\"Precision: {precision*100:.2f}%\")\n",
        "print(f\"Recall: {recall*100:.2f}%\")\n",
        "print(f\"F1 Score: {F1*100:.2f}%\")\n"
      ],
      "metadata": {
        "colab": {
          "base_uri": "https://localhost:8080/"
        },
        "id": "q9Ci2UTKQlNm",
        "outputId": "36d9c3fb-3243-4383-eeec-5f69410f1b0e"
      },
      "execution_count": null,
      "outputs": [
        {
          "output_type": "stream",
          "name": "stdout",
          "text": [
            "TP rate (Recall): 93.57%\n",
            "FP rate: 60.44%\n",
            "Precision: 33.52%\n",
            "Recall: 93.57%\n",
            "F1 Score: 49.36%\n"
          ]
        }
      ]
    }
  ]
}
